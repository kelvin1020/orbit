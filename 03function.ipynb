{
 "cells": [
  {
   "cell_type": "markdown",
   "metadata": {},
   "source": [
    "# 函数"
   ]
  },
  {
   "cell_type": "code",
   "execution_count": null,
   "metadata": {},
   "outputs": [],
   "source": [
    "# 无输入，输出参数\n",
    "def printa():\n",
    "    print(\"hello world\")\n",
    "printa()"
   ]
  },
  {
   "cell_type": "code",
   "execution_count": null,
   "metadata": {},
   "outputs": [],
   "source": [
    "#有输入，输出参数\n",
    "def add(a,b):\n",
    "    return a+b,a-b\n",
    "\n",
    "ans = add(13,3)\n",
    "ans"
   ]
  },
  {
   "cell_type": "markdown",
   "metadata": {},
   "source": [
    "## 递归"
   ]
  },
  {
   "cell_type": "markdown",
   "metadata": {},
   "source": [
    "斐波那契数列 ———— 1、1、2、3、5、8、13、21、34"
   ]
  },
  {
   "cell_type": "code",
   "execution_count": null,
   "metadata": {},
   "outputs": [],
   "source": [
    "def fb(n):\n",
    "    if n >= 3:\n",
    "        return fb(n-1) + fb(n-2)\n",
    "    elif n == 2:\n",
    "        return 1\n",
    "    else:\n",
    "        return 1\n",
    " \n",
    "fb(10)"
   ]
  },
  {
   "cell_type": "markdown",
   "metadata": {},
   "source": [
    "阶乘 ———— 1、2、6, 24, 120"
   ]
  },
  {
   "cell_type": "code",
   "execution_count": null,
   "metadata": {},
   "outputs": [],
   "source": [
    "def factrl(n):\n",
    "    if n > 1:\n",
    "        return n * factrl(n-1)\n",
    "    else:\n",
    "        return 1\n",
    "    \n",
    "factrl(6)"
   ]
  },
  {
   "cell_type": "code",
   "execution_count": null,
   "metadata": {},
   "outputs": [],
   "source": [
    "# def recur(n):\n",
    "#     return recur(n-1)\n",
    "\n",
    "# recur(10)"
   ]
  },
  {
   "cell_type": "markdown",
   "metadata": {},
   "source": [
    "## 形式参数 和 实际参数"
   ]
  },
  {
   "cell_type": "code",
   "execution_count": null,
   "metadata": {},
   "outputs": [],
   "source": [
    "a = 1\n",
    "\n",
    "def fun0(a):\n",
    "    print(a)\n",
    "\n",
    "fun0(a)"
   ]
  },
  {
   "cell_type": "markdown",
   "metadata": {},
   "source": [
    "##  全局变量和局部变量"
   ]
  },
  {
   "cell_type": "code",
   "execution_count": null,
   "metadata": {},
   "outputs": [],
   "source": [
    "a = 1\n",
    "\n",
    "def fun1(n):\n",
    "    n = n + 1 \n",
    "    return n\n",
    "    \n",
    "a = fun1(a)\n",
    "a"
   ]
  },
  {
   "cell_type": "code",
   "execution_count": null,
   "metadata": {},
   "outputs": [],
   "source": [
    "global a \n",
    "a = 1\n",
    "\n",
    "def fun2():\n",
    "    global a\n",
    "    a = a + 1\n",
    "\n",
    "fun2()\n",
    "a"
   ]
  },
  {
   "cell_type": "code",
   "execution_count": null,
   "metadata": {},
   "outputs": [],
   "source": [
    "lista = [1,2,3]\n",
    "\n",
    "def fun3(inputlist):\n",
    "    inputlist[0] = 0\n",
    "    \n",
    "\n",
    "fun3(lista)\n",
    "lista"
   ]
  },
  {
   "cell_type": "markdown",
   "metadata": {},
   "source": [
    "##  位置参数 和 关键字参数"
   ]
  },
  {
   "cell_type": "code",
   "execution_count": null,
   "metadata": {},
   "outputs": [],
   "source": [
    "def fun4(a, b ,c = 3, d = 4):\n",
    "    return a + b + c + d\n",
    "\n",
    "a = 1\n",
    "b = 2\n",
    "\n",
    "fun4(a,b)"
   ]
  },
  {
   "cell_type": "code",
   "execution_count": null,
   "metadata": {},
   "outputs": [],
   "source": [
    "def fun5(a, b, c = 3, d = 4):\n",
    "    return a + b + c + d\n",
    "\n",
    "a = 1\n",
    "b = 2\n",
    "\n",
    "fun5(a, b, d= 5, c = 6)# 位置参数必须按照顺序，关键字参数可以不按照顺序，但关键字参数在定义时需要赋值"
   ]
  },
  {
   "cell_type": "markdown",
   "metadata": {},
   "source": [
    "#  自定义函数"
   ]
  },
  {
   "cell_type": "markdown",
   "metadata": {},
   "source": [
    "\\begin{align}\n",
    "a =  \\frac{2(L_2 t_1 - L_1 t_2)}{t_{1}t_{2}(t_{1} + t_{2})}\n",
    "\\end{align}"
   ]
  },
  {
   "cell_type": "code",
   "execution_count": null,
   "metadata": {},
   "outputs": [],
   "source": [
    "def calA(t1, t2, L1, L2):\n",
    "    '计算加速度'\n",
    "    a = 2 * (L2 * t1 - L1 * t2)/ ((t1 * t2) * (t1 + t2))\n",
    "    return a\n",
    "\n",
    "\n",
    "\n",
    "\n",
    "t1 = 0.1301\n",
    "t2 = 0.0478\n",
    "L1 = 0.25\n",
    "L2 = 0.12\n",
    "\n",
    "\n",
    "\n",
    "ans = calA(t1, t2, L1, L2)\n",
    "ans"
   ]
  },
  {
   "cell_type": "code",
   "execution_count": null,
   "metadata": {},
   "outputs": [],
   "source": [
    "def funcmap(a,b):\n",
    "    return a + b\n",
    "\n",
    "ans = map(funcmap, [1,2],[2,3])\n",
    "\n",
    "ans = list(ans)\n",
    "ans"
   ]
  }
 ],
 "metadata": {
  "author": "me",
  "hide_input": false,
  "kernelspec": {
   "display_name": "Python 3",
   "language": "python",
   "name": "python3"
  },
  "language_info": {
   "codemirror_mode": {
    "name": "ipython",
    "version": 3
   },
   "file_extension": ".py",
   "mimetype": "text/x-python",
   "name": "python",
   "nbconvert_exporter": "python",
   "pygments_lexer": "ipython3",
   "version": "3.7.3"
  },
  "latex_envs": {
   "LaTeX_envs_menu_present": true,
   "autoclose": false,
   "autocomplete": true,
   "bibliofile": "biblio.bib",
   "cite_by": "apalike",
   "current_citInitial": 1,
   "eqLabelWithNumbers": true,
   "eqNumInitial": 1,
   "hotkeys": {
    "equation": "Ctrl-E",
    "itemize": "Ctrl-I"
   },
   "labels_anchors": false,
   "latex_user_defs": false,
   "report_style_numbering": false,
   "user_envs_cfg": false
  },
  "toc": {
   "base_numbering": 1,
   "nav_menu": {},
   "number_sections": true,
   "sideBar": true,
   "skip_h1_title": false,
   "title_cell": "Table of Contents",
   "title_sidebar": "Contents",
   "toc_cell": false,
   "toc_position": {},
   "toc_section_display": true,
   "toc_window_display": false
  },
  "varInspector": {
   "cols": {
    "lenName": 16,
    "lenType": 16,
    "lenVar": 40
   },
   "kernels_config": {
    "python": {
     "delete_cmd_postfix": "",
     "delete_cmd_prefix": "del ",
     "library": "var_list.py",
     "varRefreshCmd": "print(var_dic_list())"
    },
    "r": {
     "delete_cmd_postfix": ") ",
     "delete_cmd_prefix": "rm(",
     "library": "var_list.r",
     "varRefreshCmd": "cat(var_dic_list()) "
    }
   },
   "types_to_exclude": [
    "module",
    "function",
    "builtin_function_or_method",
    "instance",
    "_Feature"
   ],
   "window_display": false
  }
 },
 "nbformat": 4,
 "nbformat_minor": 2
}
