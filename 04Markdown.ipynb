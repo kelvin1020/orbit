{
 "cells": [
  {
   "cell_type": "markdown",
   "metadata": {},
   "source": [
    "# 一级标题"
   ]
  },
  {
   "cell_type": "markdown",
   "metadata": {},
   "source": [
    "## 二级标题"
   ]
  },
  {
   "cell_type": "markdown",
   "metadata": {},
   "source": [
    "### 三级标题"
   ]
  },
  {
   "cell_type": "markdown",
   "metadata": {},
   "source": [
    "#### 三级标题"
   ]
  },
  {
   "cell_type": "markdown",
   "metadata": {},
   "source": [
    "这是一段文字\n",
    "这是一段文字\n",
    "\n",
    "这是另一段文字\n",
    "\n",
    "这句话中有**黑体**\n",
    "\n",
    "这句话中有*斜体*\n",
    "\n",
    "这段话中有`强调`\n",
    "\n",
    "\n",
    "\n",
    "这下面是一个分割线\n",
    "\n",
    "---\n",
    "\n",
    "这上面是一个分割线"
   ]
  },
  {
   "cell_type": "markdown",
   "metadata": {},
   "source": [
    "- 列表\n",
    "- 列表\n",
    "- 列表\n",
    "\n",
    "+ 列表\n",
    "* 列表"
   ]
  },
  {
   "cell_type": "markdown",
   "metadata": {},
   "source": [
    "1. 有序列表\n",
    "2. 有序列表\n",
    "3. 有序列表\n"
   ]
  },
  {
   "cell_type": "markdown",
   "metadata": {},
   "source": [
    "# 链接"
   ]
  },
  {
   "cell_type": "markdown",
   "metadata": {},
   "source": [
    "[百度的链接](https://www.baidu.com)"
   ]
  },
  {
   "cell_type": "markdown",
   "metadata": {},
   "source": [
    "图片链接\n",
    "![](https://gss0.bdstatic.com/94o3dSag_xI4khGkpoWK1HF6hhy/baike/c0%3Dbaike80%2C5%2C5%2C80%2C26/sign=0fc9b8c7261f95cab2f89ae4a87e145b/1c950a7b02087bf49212ea50f1d3572c10dfcf89.jpg)"
   ]
  },
  {
   "cell_type": "markdown",
   "metadata": {},
   "source": [
    "# 引用"
   ]
  },
  {
   "cell_type": "markdown",
   "metadata": {},
   "source": [
    "> 这是一段引用"
   ]
  },
  {
   "cell_type": "markdown",
   "metadata": {},
   "source": [
    "> **这是一段黑体引用**"
   ]
  },
  {
   "cell_type": "markdown",
   "metadata": {},
   "source": [
    "> *这是一段斜体引用*"
   ]
  },
  {
   "cell_type": "markdown",
   "metadata": {},
   "source": [
    ">这是一段引用\n",
    ">接下来，\n",
    ">>这是引用的引用\n"
   ]
  },
  {
   "cell_type": "markdown",
   "metadata": {},
   "source": [
    "# 代码"
   ]
  },
  {
   "cell_type": "markdown",
   "metadata": {},
   "source": [
    "\n",
    "\n",
    "```python\n",
    "print(\"hello world!\")\n",
    "print(\"hello world! I‘m coming\")\n",
    "\n",
    "```"
   ]
  },
  {
   "cell_type": "markdown",
   "metadata": {},
   "source": [
    "# 表格"
   ]
  },
  {
   "cell_type": "markdown",
   "metadata": {},
   "source": [
    "一个表格\n",
    "\n",
    "dog | bird | cat\n",
    "----|------|----\n",
    "foo | foo  | foo\n",
    "bar | bar  | bar\n",
    "baz | baz  | baz"
   ]
  },
  {
   "cell_type": "markdown",
   "metadata": {},
   "source": [
    "一个不等宽表格\n",
    "\n",
    "| Tables        | Are           | Cool |\n",
    "|:------------- |:-------------:|-----:|\n",
    "| col 3 is      | right-aligned | 1600 |\n",
    "| col 2 is      | centered      |   12 |\n",
    "| zebra stripes | are neat      |    1 |\n",
    "\n"
   ]
  },
  {
   "cell_type": "markdown",
   "metadata": {},
   "source": [
    "# LaTex公式"
   ]
  },
  {
   "cell_type": "markdown",
   "metadata": {},
   "source": [
    "这是一个 行内公式：$\\bar{x} = \\sum^{n}_{i = 1} x_{i} $\n",
    "\n",
    "这是一个 行间公式：$$\\bar{x} = \\sum^{n}_{i = 1} x_{i} $$"
   ]
  },
  {
   "cell_type": "markdown",
   "metadata": {},
   "source": [
    "# HTML语言"
   ]
  },
  {
   "cell_type": "markdown",
   "metadata": {},
   "source": [
    "<table class=\"table table-bordered table-striped table-condensed\">\n",
    "   <tr>\n",
    "      <td>John</td>\n",
    "      <td>Smith</td>\n",
    "      <td>123 Main St.</td>\n",
    "      <td>Springfield</td>\n",
    "   </tr>\n",
    "   <tr>\n",
    "      <td>Mary</td>\n",
    "      <td>Jones</td>\n",
    "      <td>456 Pine St.</td>\n",
    "      <td>Dover</td>\n",
    "   </tr>\n",
    "   <tr>\n",
    "      <td>Jim</td>\n",
    "      <td>Baker</td>\n",
    "      <td>789 Park Ave.</td>\n",
    "      <td>Lincoln</td>\n",
    "   </tr>\n",
    "</table>\n",
    "\n"
   ]
  }
 ],
 "metadata": {
  "hide_input": false,
  "kernelspec": {
   "display_name": "Python 3",
   "language": "python",
   "name": "python3"
  },
  "language_info": {
   "codemirror_mode": {
    "name": "ipython",
    "version": 3
   },
   "file_extension": ".py",
   "mimetype": "text/x-python",
   "name": "python",
   "nbconvert_exporter": "python",
   "pygments_lexer": "ipython3",
   "version": "3.6.7"
  },
  "latex_envs": {
   "LaTeX_envs_menu_present": true,
   "autoclose": false,
   "autocomplete": true,
   "bibliofile": "biblio.bib",
   "cite_by": "apalike",
   "current_citInitial": 1,
   "eqLabelWithNumbers": true,
   "eqNumInitial": 1,
   "hotkeys": {
    "equation": "Ctrl-E",
    "itemize": "Ctrl-I"
   },
   "labels_anchors": false,
   "latex_user_defs": false,
   "report_style_numbering": false,
   "user_envs_cfg": false
  },
  "toc": {
   "base_numbering": 1,
   "nav_menu": {},
   "number_sections": true,
   "sideBar": true,
   "skip_h1_title": false,
   "title_cell": "Table of Contents",
   "title_sidebar": "Contents",
   "toc_cell": false,
   "toc_position": {},
   "toc_section_display": true,
   "toc_window_display": false
  },
  "varInspector": {
   "cols": {
    "lenName": 16,
    "lenType": 16,
    "lenVar": 40
   },
   "kernels_config": {
    "python": {
     "delete_cmd_postfix": "",
     "delete_cmd_prefix": "del ",
     "library": "var_list.py",
     "varRefreshCmd": "print(var_dic_list())"
    },
    "r": {
     "delete_cmd_postfix": ") ",
     "delete_cmd_prefix": "rm(",
     "library": "var_list.r",
     "varRefreshCmd": "cat(var_dic_list()) "
    }
   },
   "types_to_exclude": [
    "module",
    "function",
    "builtin_function_or_method",
    "instance",
    "_Feature"
   ],
   "window_display": false
  }
 },
 "nbformat": 4,
 "nbformat_minor": 2
}
