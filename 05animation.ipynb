{
 "cells": [
  {
   "cell_type": "code",
   "execution_count": null,
   "metadata": {},
   "outputs": [],
   "source": [
    "#!/usr/bin/env python3\n",
    "# -*- coding: utf-8 -*-\n",
    "\"\"\"\n",
    "Created on Thu Jan 25 15:08:54 2018\n",
    "\n",
    "@author: ysc\n",
    "\"\"\"\n",
    "\n",
    "#导入各种模块\n",
    "import math\n",
    "import numpy as np\n",
    "import matplotlib.pyplot as plt\n",
    "from mpl_toolkits.mplot3d import Axes3D\n",
    "from moviepy.video.io.bindings import mplfig_to_npimage#动图生成\n",
    "import moviepy.editor as mpy"
   ]
  },
  {
   "cell_type": "code",
   "execution_count": null,
   "metadata": {},
   "outputs": [],
   "source": [
    "phi = 0\n",
    "x = np.linspace(0, 2 * np.pi, 50)\n",
    "y = np.sin(x + phi)\n",
    "\n",
    "plt.figure()\n",
    "plt.plot(x, y)\n",
    "plt.xlim(0, 2 * np.pi)\n",
    "plt.ylim(-1, 1)\n",
    "plt.show()"
   ]
  },
  {
   "cell_type": "code",
   "execution_count": null,
   "metadata": {},
   "outputs": [],
   "source": [
    "x = np.linspace(0, 2 * np.pi, 50)\n",
    "\n",
    "duration = 10 \n",
    "speed = 1.0\n",
    "\n",
    "fig_mpl, ax = plt.subplots(1, facecolor='white')# 关键字参数，figsize =(8,6),代表横纵比\n",
    "\n",
    "\n",
    "# 使用MOVIEPY让图动起来(根据时间t来更新图). 保存为GIF等.\n",
    "def make_frame_mpl(t):\n",
    "    tNorm = t/duration      #0 --> 1\n",
    "    phi = 2* np.pi * tNorm  #0 --> 2 pi\n",
    "    y = np.sin(x + phi)\n",
    "    \n",
    "    ax.clear()    \n",
    "    ax.set_ylabel('y') #坐标轴\n",
    "    ax.set_xlabel('x')\n",
    "    ax.set_xlim(0, 2 * np.pi)#设置纵坐标 地月系\n",
    "    ax.set_ylim(-1, 1)#设置纵坐标 \n",
    "    ax.set_title(\"phi = \" + str(round(2 * tNorm, 1)) + '$\\pi$')#设置标题,round为近似函数\n",
    "\n",
    "    ax.plot(x, y) \n",
    "\n",
    "    return mplfig_to_npimage(fig_mpl) # image of the figure\n",
    "\n",
    "animation = mpy.VideoClip(make_frame_mpl, duration=duration) #duration表示所制作视频正常速度播放的时间\n",
    "# animation.speedx(speed).write_videofile(\"2body2D.mp4\", fps=30) #输出mp4, speedx表示播放速度(1.0为正常速度), fps每秒帧数\n",
    "animation.speedx(speed).ipython_display(fps=10, loop=1, autoplay=1) \n",
    "#用于在Jupyter上输出,speedx表示播放速度(1.0为正常速度),fps每秒帧数,loop表示是否循环播放(1或者0)autoplay表示是否自动播放(1或者0)"
   ]
  },
  {
   "cell_type": "code",
   "execution_count": null,
   "metadata": {},
   "outputs": [],
   "source": [
    "a = 1\n",
    "x1 = np.linspace(-2, 2, 50)\n",
    "y1 = a * x1**2\n",
    "\n",
    "plt.figure()\n",
    "plt.plot(x1, y1)\n",
    "plt.xlim(-2, 2)\n",
    "plt.ylim(0, 4)\n",
    "plt.show()\n"
   ]
  },
  {
   "cell_type": "markdown",
   "metadata": {},
   "source": [
    "# 小试牛刀"
   ]
  },
  {
   "cell_type": "code",
   "execution_count": null,
   "metadata": {},
   "outputs": [],
   "source": [
    "x1 = np.linspace(-2, 2, 50)\n",
    "\n",
    "\n",
    "# 使用MOVIEPY让图动起来(根据时间t来更新图). 保存为GIF等.\n",
    "def make_frame_mpl(t):\n",
    "    tNorm = t/duration      #0 --> 1\n",
    "    \n",
    "    ##########你在这里写代码(设置a的变动范围)##############################################\n",
    "    a = 0                   #要求 a 从 -1 变到 1\n",
    "    ##########你在这里写代码(设置a的变动范围##############################################\n",
    "    \n",
    "    y1 = a * x1**2    \n",
    "    ax.clear()\n",
    "    \n",
    "    \n",
    "    ########你在这里写代码(横坐标，纵坐标标签，显示范围,标题)################################\n",
    "    ax.set_xlabel(\"\")\n",
    "    ax.set_xlim()\n",
    "    #ax.set_ylabel\n",
    "    #ax.set_ylim\n",
    "    ax.set_title(\"t = \" + str(round(tNorm, 1)) )#要求显示a的变动范围     \n",
    "    ########你在这里写代码(横坐标，纵坐标标签，显示范围，标题)#################################\n",
    " \n",
    "\n",
    "    ax.plot(x1, y1) \n",
    "\n",
    "    return mplfig_to_npimage(fig_mpl) # image of the figure\n",
    "\n",
    "animation = mpy.VideoClip(make_frame_mpl, duration=duration) #duration表示所制作视频正常速度播放的时间\n",
    "# animation.speedx(speed).write_videofile(\"2body2D.mp4\", fps=30) #输出mp4, speedx表示播放速度(1.0为正常速度), fps每秒帧数\n",
    "animation.speedx(speed).ipython_display(fps=10, loop=1, autoplay=1) \n",
    "#用于在Jupyter上输出,speedx表示播放速度(1.0为正常速度),fps每秒帧数,loop表示是否循环播放(1或者0)autoplay表示是否自动播放(1或者0)"
   ]
  }
 ],
 "metadata": {
  "hide_input": false,
  "kernelspec": {
   "display_name": "Python 3",
   "language": "python",
   "name": "python3"
  },
  "language_info": {
   "codemirror_mode": {
    "name": "ipython",
    "version": 3
   },
   "file_extension": ".py",
   "mimetype": "text/x-python",
   "name": "python",
   "nbconvert_exporter": "python",
   "pygments_lexer": "ipython3",
   "version": "3.6.7"
  },
  "latex_envs": {
   "LaTeX_envs_menu_present": true,
   "autoclose": false,
   "autocomplete": true,
   "bibliofile": "biblio.bib",
   "cite_by": "apalike",
   "current_citInitial": 1,
   "eqLabelWithNumbers": true,
   "eqNumInitial": 1,
   "hotkeys": {
    "equation": "Ctrl-E",
    "itemize": "Ctrl-I"
   },
   "labels_anchors": false,
   "latex_user_defs": false,
   "report_style_numbering": false,
   "user_envs_cfg": false
  },
  "toc": {
   "base_numbering": 1,
   "nav_menu": {},
   "number_sections": true,
   "sideBar": true,
   "skip_h1_title": false,
   "title_cell": "Table of Contents",
   "title_sidebar": "Contents",
   "toc_cell": false,
   "toc_position": {},
   "toc_section_display": true,
   "toc_window_display": false
  },
  "varInspector": {
   "cols": {
    "lenName": 16,
    "lenType": 16,
    "lenVar": 40
   },
   "kernels_config": {
    "python": {
     "delete_cmd_postfix": "",
     "delete_cmd_prefix": "del ",
     "library": "var_list.py",
     "varRefreshCmd": "print(var_dic_list())"
    },
    "r": {
     "delete_cmd_postfix": ") ",
     "delete_cmd_prefix": "rm(",
     "library": "var_list.r",
     "varRefreshCmd": "cat(var_dic_list()) "
    }
   },
   "types_to_exclude": [
    "module",
    "function",
    "builtin_function_or_method",
    "instance",
    "_Feature"
   ],
   "window_display": false
  }
 },
 "nbformat": 4,
 "nbformat_minor": 2
}
